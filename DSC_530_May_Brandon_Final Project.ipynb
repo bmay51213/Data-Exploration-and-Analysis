{
 "cells": [
  {
   "cell_type": "code",
   "execution_count": 1,
   "metadata": {},
   "outputs": [
    {
     "name": "stdout",
     "output_type": "stream",
     "text": [
      "     age  sex  cp  trestbps  chol  fbs  restecg  thalach  exang  oldpeak  \\\n",
      "0     63    1   3       145   233    1        0      150      0      2.3   \n",
      "1     37    1   2       130   250    0        1      187      0      3.5   \n",
      "2     41    0   1       130   204    0        0      172      0      1.4   \n",
      "3     56    1   1       120   236    0        1      178      0      0.8   \n",
      "4     57    0   0       120   354    0        1      163      1      0.6   \n",
      "..   ...  ...  ..       ...   ...  ...      ...      ...    ...      ...   \n",
      "298   57    0   0       140   241    0        1      123      1      0.2   \n",
      "299   45    1   3       110   264    0        1      132      0      1.2   \n",
      "300   68    1   0       144   193    1        1      141      0      3.4   \n",
      "301   57    1   0       130   131    0        1      115      1      1.2   \n",
      "302   57    0   1       130   236    0        0      174      0      0.0   \n",
      "\n",
      "     slope  ca  thal  target  \n",
      "0        0   0     1       1  \n",
      "1        0   0     2       1  \n",
      "2        2   0     2       1  \n",
      "3        2   0     2       1  \n",
      "4        2   0     2       1  \n",
      "..     ...  ..   ...     ...  \n",
      "298      1   0     3       0  \n",
      "299      1   0     3       0  \n",
      "300      1   2     3       0  \n",
      "301      1   1     3       0  \n",
      "302      1   1     2       0  \n",
      "\n",
      "[303 rows x 14 columns]\n"
     ]
    }
   ],
   "source": [
    "#DSC 530 - Data Exploration and Analysis\n",
    "#Final Project\n",
    "#May, Brandon\n",
    "\n",
    "from __future__ import print_function, division\n",
    "\n",
    "import pandas as pd\n",
    "import numpy as np\n",
    "import thinkstats2\n",
    "import thinkplot\n",
    "import matplotlib.pyplot as plt\n",
    "from matplotlib import colors\n",
    "from matplotlib.ticker import PercentFormatter\n",
    "from scipy import stats\n",
    "import statsmodels.formula.api as smf\n",
    "import statistics\n",
    "from sklearn import linear_model\n",
    "from scipy.stats import spearmanr\n",
    "import patsy\n",
    "\n",
    "#Fixing random state for reproducibility\n",
    "np.random.seed(19680801)\n",
    "\n",
    "#Importing our CSV file: heart.csv\n",
    "\n",
    "data = pd.read_csv(\"heart.csv\")\n",
    "print(data)"
   ]
  },
  {
   "cell_type": "code",
   "execution_count": 3,
   "metadata": {},
   "outputs": [
    {
     "data": {
      "text/html": [
       "<div>\n",
       "<style scoped>\n",
       "    .dataframe tbody tr th:only-of-type {\n",
       "        vertical-align: middle;\n",
       "    }\n",
       "\n",
       "    .dataframe tbody tr th {\n",
       "        vertical-align: top;\n",
       "    }\n",
       "\n",
       "    .dataframe thead th {\n",
       "        text-align: right;\n",
       "    }\n",
       "</style>\n",
       "<table border=\"1\" class=\"dataframe\">\n",
       "  <thead>\n",
       "    <tr style=\"text-align: right;\">\n",
       "      <th></th>\n",
       "      <th>age</th>\n",
       "      <th>sex</th>\n",
       "      <th>cp</th>\n",
       "      <th>trestbps</th>\n",
       "      <th>chol</th>\n",
       "      <th>fbs</th>\n",
       "      <th>restecg</th>\n",
       "      <th>thalach</th>\n",
       "      <th>exang</th>\n",
       "      <th>oldpeak</th>\n",
       "      <th>slope</th>\n",
       "      <th>ca</th>\n",
       "      <th>thal</th>\n",
       "      <th>target</th>\n",
       "    </tr>\n",
       "  </thead>\n",
       "  <tbody>\n",
       "    <tr>\n",
       "      <td>0</td>\n",
       "      <td>63</td>\n",
       "      <td>1</td>\n",
       "      <td>3</td>\n",
       "      <td>145</td>\n",
       "      <td>233</td>\n",
       "      <td>1</td>\n",
       "      <td>0</td>\n",
       "      <td>150</td>\n",
       "      <td>0</td>\n",
       "      <td>2.3</td>\n",
       "      <td>0</td>\n",
       "      <td>0</td>\n",
       "      <td>1</td>\n",
       "      <td>1</td>\n",
       "    </tr>\n",
       "    <tr>\n",
       "      <td>1</td>\n",
       "      <td>37</td>\n",
       "      <td>1</td>\n",
       "      <td>2</td>\n",
       "      <td>130</td>\n",
       "      <td>250</td>\n",
       "      <td>0</td>\n",
       "      <td>1</td>\n",
       "      <td>187</td>\n",
       "      <td>0</td>\n",
       "      <td>3.5</td>\n",
       "      <td>0</td>\n",
       "      <td>0</td>\n",
       "      <td>2</td>\n",
       "      <td>1</td>\n",
       "    </tr>\n",
       "    <tr>\n",
       "      <td>2</td>\n",
       "      <td>41</td>\n",
       "      <td>0</td>\n",
       "      <td>1</td>\n",
       "      <td>130</td>\n",
       "      <td>204</td>\n",
       "      <td>0</td>\n",
       "      <td>0</td>\n",
       "      <td>172</td>\n",
       "      <td>0</td>\n",
       "      <td>1.4</td>\n",
       "      <td>2</td>\n",
       "      <td>0</td>\n",
       "      <td>2</td>\n",
       "      <td>1</td>\n",
       "    </tr>\n",
       "    <tr>\n",
       "      <td>3</td>\n",
       "      <td>56</td>\n",
       "      <td>1</td>\n",
       "      <td>1</td>\n",
       "      <td>120</td>\n",
       "      <td>236</td>\n",
       "      <td>0</td>\n",
       "      <td>1</td>\n",
       "      <td>178</td>\n",
       "      <td>0</td>\n",
       "      <td>0.8</td>\n",
       "      <td>2</td>\n",
       "      <td>0</td>\n",
       "      <td>2</td>\n",
       "      <td>1</td>\n",
       "    </tr>\n",
       "    <tr>\n",
       "      <td>4</td>\n",
       "      <td>57</td>\n",
       "      <td>0</td>\n",
       "      <td>0</td>\n",
       "      <td>120</td>\n",
       "      <td>354</td>\n",
       "      <td>0</td>\n",
       "      <td>1</td>\n",
       "      <td>163</td>\n",
       "      <td>1</td>\n",
       "      <td>0.6</td>\n",
       "      <td>2</td>\n",
       "      <td>0</td>\n",
       "      <td>2</td>\n",
       "      <td>1</td>\n",
       "    </tr>\n",
       "    <tr>\n",
       "      <td>...</td>\n",
       "      <td>...</td>\n",
       "      <td>...</td>\n",
       "      <td>...</td>\n",
       "      <td>...</td>\n",
       "      <td>...</td>\n",
       "      <td>...</td>\n",
       "      <td>...</td>\n",
       "      <td>...</td>\n",
       "      <td>...</td>\n",
       "      <td>...</td>\n",
       "      <td>...</td>\n",
       "      <td>...</td>\n",
       "      <td>...</td>\n",
       "      <td>...</td>\n",
       "    </tr>\n",
       "    <tr>\n",
       "      <td>298</td>\n",
       "      <td>57</td>\n",
       "      <td>0</td>\n",
       "      <td>0</td>\n",
       "      <td>140</td>\n",
       "      <td>241</td>\n",
       "      <td>0</td>\n",
       "      <td>1</td>\n",
       "      <td>123</td>\n",
       "      <td>1</td>\n",
       "      <td>0.2</td>\n",
       "      <td>1</td>\n",
       "      <td>0</td>\n",
       "      <td>3</td>\n",
       "      <td>0</td>\n",
       "    </tr>\n",
       "    <tr>\n",
       "      <td>299</td>\n",
       "      <td>45</td>\n",
       "      <td>1</td>\n",
       "      <td>3</td>\n",
       "      <td>110</td>\n",
       "      <td>264</td>\n",
       "      <td>0</td>\n",
       "      <td>1</td>\n",
       "      <td>132</td>\n",
       "      <td>0</td>\n",
       "      <td>1.2</td>\n",
       "      <td>1</td>\n",
       "      <td>0</td>\n",
       "      <td>3</td>\n",
       "      <td>0</td>\n",
       "    </tr>\n",
       "    <tr>\n",
       "      <td>300</td>\n",
       "      <td>68</td>\n",
       "      <td>1</td>\n",
       "      <td>0</td>\n",
       "      <td>144</td>\n",
       "      <td>193</td>\n",
       "      <td>1</td>\n",
       "      <td>1</td>\n",
       "      <td>141</td>\n",
       "      <td>0</td>\n",
       "      <td>3.4</td>\n",
       "      <td>1</td>\n",
       "      <td>2</td>\n",
       "      <td>3</td>\n",
       "      <td>0</td>\n",
       "    </tr>\n",
       "    <tr>\n",
       "      <td>301</td>\n",
       "      <td>57</td>\n",
       "      <td>1</td>\n",
       "      <td>0</td>\n",
       "      <td>130</td>\n",
       "      <td>131</td>\n",
       "      <td>0</td>\n",
       "      <td>1</td>\n",
       "      <td>115</td>\n",
       "      <td>1</td>\n",
       "      <td>1.2</td>\n",
       "      <td>1</td>\n",
       "      <td>1</td>\n",
       "      <td>3</td>\n",
       "      <td>0</td>\n",
       "    </tr>\n",
       "    <tr>\n",
       "      <td>302</td>\n",
       "      <td>57</td>\n",
       "      <td>0</td>\n",
       "      <td>1</td>\n",
       "      <td>130</td>\n",
       "      <td>236</td>\n",
       "      <td>0</td>\n",
       "      <td>0</td>\n",
       "      <td>174</td>\n",
       "      <td>0</td>\n",
       "      <td>0.0</td>\n",
       "      <td>1</td>\n",
       "      <td>1</td>\n",
       "      <td>2</td>\n",
       "      <td>0</td>\n",
       "    </tr>\n",
       "  </tbody>\n",
       "</table>\n",
       "<p>303 rows × 14 columns</p>\n",
       "</div>"
      ],
      "text/plain": [
       "     age  sex  cp  trestbps  chol  fbs  restecg  thalach  exang  oldpeak  \\\n",
       "0     63    1   3       145   233    1        0      150      0      2.3   \n",
       "1     37    1   2       130   250    0        1      187      0      3.5   \n",
       "2     41    0   1       130   204    0        0      172      0      1.4   \n",
       "3     56    1   1       120   236    0        1      178      0      0.8   \n",
       "4     57    0   0       120   354    0        1      163      1      0.6   \n",
       "..   ...  ...  ..       ...   ...  ...      ...      ...    ...      ...   \n",
       "298   57    0   0       140   241    0        1      123      1      0.2   \n",
       "299   45    1   3       110   264    0        1      132      0      1.2   \n",
       "300   68    1   0       144   193    1        1      141      0      3.4   \n",
       "301   57    1   0       130   131    0        1      115      1      1.2   \n",
       "302   57    0   1       130   236    0        0      174      0      0.0   \n",
       "\n",
       "     slope  ca  thal  target  \n",
       "0        0   0     1       1  \n",
       "1        0   0     2       1  \n",
       "2        2   0     2       1  \n",
       "3        2   0     2       1  \n",
       "4        2   0     2       1  \n",
       "..     ...  ..   ...     ...  \n",
       "298      1   0     3       0  \n",
       "299      1   0     3       0  \n",
       "300      1   2     3       0  \n",
       "301      1   1     3       0  \n",
       "302      1   1     2       0  \n",
       "\n",
       "[303 rows x 14 columns]"
      ]
     },
     "execution_count": 3,
     "metadata": {},
     "output_type": "execute_result"
    }
   ],
   "source": [
    "#Converting our Categorical Variables using Column names\n",
    "\n",
    "x = data[['sex', 'fbs','restecg','target', 'exang', 'slope', 'cp']]\n",
    "x = pd.get_dummies(data=data, drop_first = True)\n",
    "x"
   ]
  },
  {
   "cell_type": "code",
   "execution_count": 4,
   "metadata": {},
   "outputs": [],
   "source": [
    "#Defining our Series Variables\n",
    "\n",
    "#Age of the Participant\n",
    "age = x['age']\n",
    "\n",
    "#Total Cholesterol of the Participant\n",
    "chol = x['chol']\n",
    "\n",
    "#Systolic Resting Blood Pressure on Hospital Admit of Participant\n",
    "resting_bp = x['trestbps']\n",
    "\n",
    "#Fasting Blood Sugar (if >120, coded as 1 in data set, otherwise reported as 0)\n",
    "fbs = x['fbs']\n",
    "\n",
    "#Presence of Coronary Artery Disease (1=Present, 0=Absent)\n",
    "cad_presence = x['target']\n",
    "\n",
    "#Number of Vessels Imaged with Fluroscopy (via Angiogram)\n",
    "vessel = x['ca']\n",
    "\n",
    "#Type of EKG Changes (0 = Normal, 1 = ST-T wave changes, 2 = Likely LVH criteria)\n",
    "restecg = x['restecg']\n",
    "\n",
    "#Gender\n",
    "sex = x['sex']\n",
    "\n",
    "#Type of Chest Pain (1 = Typical Angina, 2 = Atypical Angina, 3 = Non-Anginal Pain, 4 = Asymptomatic)\n",
    "cp = x['cp']\n",
    "\n",
    "#Maximum HR Achieved During Stress Testing\n",
    "maxhr = x['thalach']\n",
    "\n",
    "#Was there exercise induced angina?\n",
    "exang = x['exang']\n",
    "\n",
    "#ST Depression Induced By Exercise Relative to Rest\n",
    "oldpeak = x['oldpeak']\n",
    "\n",
    "#Slope of Peak Exercise ST Semengt (1 = Upsloping, 2 = Flat, 3 = Downsloping)\n",
    "slope = x['slope']\n"
   ]
  },
  {
   "cell_type": "code",
   "execution_count": 5,
   "metadata": {},
   "outputs": [
    {
     "data": {
      "text/plain": [
       "Text(0, 0.5, 'Counts')"
      ]
     },
     "execution_count": 5,
     "metadata": {},
     "output_type": "execute_result"
    },
    {
     "data": {
      "image/png": "[encoded data removed]",
      "text/plain": [
       "<Figure size 432x288 with 1 Axes>"
      ]
     },
     "metadata": {
      "needs_background": "light"
     },
     "output_type": "display_data"
    }
   ],
   "source": [
    "#Plotting our Histograms of our Variable Age\n",
    "\n",
    "n_bins = 100\n",
    "\n",
    "plt.hist(age, bins = n_bins)\n",
    "plt.title(\"Histogram for Age\")\n",
    "plt.xlabel(\"Age\")\n",
    "plt.ylabel(\"Counts\")"
   ]
  },
  {
   "cell_type": "code",
   "execution_count": 6,
   "metadata": {},
   "outputs": [
    {
     "data": {
      "text/plain": [
       "Text(0, 0.5, 'Counts')"
      ]
     },
     "execution_count": 6,
     "metadata": {},
     "output_type": "execute_result"
    },
    {
     "data": {
      "image/png": "[encoded data removed]",
      "text/plain": [
       "<Figure size 432x288 with 1 Axes>"
      ]
     },
     "metadata": {
      "needs_background": "light"
     },
     "output_type": "display_data"
    }
   ],
   "source": [
    "#Plotting Histogram of Variable Cholesterol\n",
    "\n",
    "n_bins = 400\n",
    "\n",
    "plt.hist(chol, bins = n_bins)\n",
    "plt.title(\"Histogram for Cholesterol Values\")\n",
    "plt.xlabel(\"Cholesterol Values (mg/dL)\")\n",
    "plt.ylabel(\"Counts\")"
   ]
  },
  {
   "cell_type": "code",
   "execution_count": 7,
   "metadata": {},
   "outputs": [
    {
     "data": {
      "text/plain": [
       "Text(0, 0.5, 'Counts')"
      ]
     },
     "execution_count": 7,
     "metadata": {},
     "output_type": "execute_result"
    },
    {
     "data": {
      "image/png": "[encoded data removed]",
      "text/plain": [
       "<Figure size 432x288 with 1 Axes>"
      ]
     },
     "metadata": {
      "needs_background": "light"
     },
     "output_type": "display_data"
    }
   ],
   "source": [
    "#Plotting Histogram of Variable Systolic Blood Pressure\n",
    "\n",
    "n_bins = 200\n",
    "\n",
    "plt.hist(resting_bp, bins = n_bins)\n",
    "plt.title(\"Histogram for Systolic Blood Pressure Values\")\n",
    "plt.xlabel(\"Resting Systolic BP (mmHg)\")\n",
    "plt.ylabel(\"Counts\")"
   ]
  },
  {
   "cell_type": "code",
   "execution_count": 8,
   "metadata": {},
   "outputs": [
    {
     "data": {
      "image/png": "[encoded data removed]",
      "text/plain": [
       "<Figure size 432x288 with 1 Axes>"
      ]
     },
     "metadata": {
      "needs_background": "light"
     },
     "output_type": "display_data"
    }
   ],
   "source": [
    "#Plotting Histogram for Fasting Blood Sugar Variable\n",
    "\n",
    "fbs.value_counts().plot(kind='bar')\n",
    "plt.title(\"Histogram for Fasting Blood Sugar Values\")\n",
    "plt.xticks(rotation = +60, horizontalalignment = 'left')\n",
    "plt.xlabel('0 = FBS <120   1 = FBS >120')\n",
    "plt.ylabel('Counts')\n",
    "plt.show()"
   ]
  },
  {
   "cell_type": "code",
   "execution_count": 9,
   "metadata": {},
   "outputs": [
    {
     "data": {
      "image/png": "[encoded data removed]",
      "text/plain": [
       "<Figure size 432x288 with 1 Axes>"
      ]
     },
     "metadata": {
      "needs_background": "light"
     },
     "output_type": "display_data"
    }
   ],
   "source": [
    "#Plotting number of vessels imaged by fluroscopy variable as histogram\n",
    "\n",
    "vessel.value_counts().plot(kind='bar', rot = 45)\n",
    "plt.title(\"Histogram for Number of Vessels Imaged By Fluoroscopy\")\n",
    "plt.xticks(rotation = 45, horizontalalignment = 'left')\n",
    "plt.ylabel('Counts')\n",
    "plt.show()\n"
   ]
  },
  {
   "cell_type": "code",
   "execution_count": 10,
   "metadata": {},
   "outputs": [
    {
     "data": {
      "image/png": "[encoded data removed]",
      "text/plain": [
       "<Figure size 432x288 with 1 Axes>"
      ]
     },
     "metadata": {
      "needs_background": "light"
     },
     "output_type": "display_data"
    }
   ],
   "source": [
    "#Plotting Histogram for EKG Changes\n",
    "\n",
    "restecg.value_counts(sort=False).plot(kind='bar')\n",
    "plt.title(\"Histogram for EKG Findings\")\n",
    "plt.xticks(rotation = 45, horizontalalignment = 'left')\n",
    "plt.xlabel(' 0 = Normal   1 = ST-T wave Changes    2 = Signs of LVH')\n",
    "plt.ylabel('Counts')\n",
    "plt.show()"
   ]
  },
  {
   "cell_type": "code",
   "execution_count": 11,
   "metadata": {},
   "outputs": [
    {
     "data": {
      "image/png": "[encoded data removed]",
      "text/plain": [
       "<Figure size 432x288 with 1 Axes>"
      ]
     },
     "metadata": {
      "needs_background": "light"
     },
     "output_type": "display_data"
    }
   ],
   "source": [
    "#Plotting Histogram For CAD Presence\n",
    "\n",
    "cad_presence.value_counts(sort=False).plot(kind='bar')\n",
    "plt.title(\"Histogram for CAD Presence or Absence\")\n",
    "plt.xticks(rotation = 45, horizontalalignment = 'left')\n",
    "plt.xlabel(' 0 = Absence (<50% Stenosis)     1 = Presence (>50% Stenosis)')\n",
    "plt.ylabel('Counts')\n",
    "plt.show()\n",
    "           "
   ]
  },
  {
   "cell_type": "code",
   "execution_count": 12,
   "metadata": {},
   "outputs": [
    {
     "data": {
      "image/png": "[encoded data removed]",
      "text/plain": [
       "<Figure size 432x288 with 1 Axes>"
      ]
     },
     "metadata": {
      "needs_background": "light"
     },
     "output_type": "display_data"
    }
   ],
   "source": [
    "#Plotting Histogram for Type of Angina\n",
    "\n",
    "cp.value_counts(sort = False).plot(kind='bar')\n",
    "plt.title(\"Histogram for Type of Angina Experienced\")\n",
    "plt.xticks(rotation = 45, horizontalalignment = 'left')\n",
    "plt.xlabel(' 0 = Asymptomatic  1 = Typical Angina    2 = Atypical Angina   3 = Non-Anginal Pain')\n",
    "plt.ylabel('Counts')\n",
    "plt.show()"
   ]
  },
  {
   "cell_type": "code",
   "execution_count": 13,
   "metadata": {},
   "outputs": [
    {
     "data": {
      "image/png": "[encoded data removed]",
      "text/plain": [
       "<Figure size 432x288 with 1 Axes>"
      ]
     },
     "metadata": {
      "needs_background": "light"
     },
     "output_type": "display_data"
    }
   ],
   "source": [
    "#Plotting Histogram for Presence of Exercise Induced Angina\n",
    "\n",
    "exang.value_counts(sort = False).plot(kind = 'bar')\n",
    "plt.title(\"Histogram for Presence of Exercised Induced Angina\")\n",
    "plt.xticks(rotation = 45, horizontalalignment = 'left')\n",
    "plt.xlabel('0 = None            1 = Exercised Induced Angina Present')\n",
    "plt.ylabel('Counts')\n",
    "plt.show()"
   ]
  },
  {
   "cell_type": "code",
   "execution_count": 14,
   "metadata": {},
   "outputs": [
    {
     "name": "stdout",
     "output_type": "stream",
     "text": [
      "Descriptive Statistics for Age Variable:\n",
      " count    303.000000\n",
      "mean      54.366337\n",
      "std        9.082101\n",
      "min       29.000000\n",
      "25%       47.500000\n",
      "50%       55.000000\n",
      "75%       61.000000\n",
      "max       77.000000\n",
      "Name: age, dtype: float64\n",
      "Mode=\n",
      " 58\n"
     ]
    }
   ],
   "source": [
    "#Descriptive Statistics for our Age Variable\n",
    "\n",
    "print('Descriptive Statistics for Age Variable:\\n', age.describe())\n",
    "print('Mode=\\n', statistics.mode(age))"
   ]
  },
  {
   "cell_type": "code",
   "execution_count": 15,
   "metadata": {
    "scrolled": true
   },
   "outputs": [
    {
     "name": "stdout",
     "output_type": "stream",
     "text": [
      "Descriptive Statistics for Cholesterol Variable:\n",
      " count    303.000000\n",
      "mean     246.264026\n",
      "std       51.830751\n",
      "min      126.000000\n",
      "25%      211.000000\n",
      "50%      240.000000\n",
      "75%      274.500000\n",
      "max      564.000000\n",
      "Name: chol, dtype: float64\n",
      "Mode=\n",
      " 0    197\n",
      "1    204\n",
      "2    234\n",
      "dtype: int64\n"
     ]
    }
   ],
   "source": [
    "#Descriptive Statistics for our Cholesterol Variable.\n",
    "\n",
    "print('Descriptive Statistics for Cholesterol Variable:\\n', chol.describe())\n",
    "print('Mode=\\n', chol.mode())"
   ]
  },
  {
   "cell_type": "code",
   "execution_count": 16,
   "metadata": {},
   "outputs": [
    {
     "name": "stdout",
     "output_type": "stream",
     "text": [
      "Descriptive Statistics for Resting BP Variable:\n",
      " count    303.000000\n",
      "mean     131.623762\n",
      "std       17.538143\n",
      "min       94.000000\n",
      "25%      120.000000\n",
      "50%      130.000000\n",
      "75%      140.000000\n",
      "max      200.000000\n",
      "Name: trestbps, dtype: float64\n",
      "Mode=\n",
      " 0    120\n",
      "dtype: int64\n"
     ]
    }
   ],
   "source": [
    "#Descriptive Statistics for our Resting BP Variable.\n",
    "\n",
    "print('Descriptive Statistics for Resting BP Variable:\\n', resting_bp.describe())\n",
    "print('Mode=\\n', resting_bp.mode())"
   ]
  },
  {
   "cell_type": "code",
   "execution_count": 17,
   "metadata": {},
   "outputs": [
    {
     "name": "stdout",
     "output_type": "stream",
     "text": [
      "Descriptive Statistics for Blood Sugar Variable:\n",
      " count    303.000000\n",
      "mean       0.148515\n",
      "std        0.356198\n",
      "min        0.000000\n",
      "25%        0.000000\n",
      "50%        0.000000\n",
      "75%        0.000000\n",
      "max        1.000000\n",
      "Name: fbs, dtype: float64\n",
      "Mode=\n",
      " 0    0\n",
      "dtype: int64\n"
     ]
    }
   ],
   "source": [
    "#Descriptive Statistics for our Blood Sugar Variable.\n",
    "\n",
    "print('Descriptive Statistics for Blood Sugar Variable:\\n', fbs.describe())\n",
    "print('Mode=\\n', fbs.mode())"
   ]
  },
  {
   "cell_type": "code",
   "execution_count": 18,
   "metadata": {},
   "outputs": [
    {
     "name": "stdout",
     "output_type": "stream",
     "text": [
      "Descriptive Statistics for Exercise Induced Angina Variable:\n",
      " count    303.000000\n",
      "mean       0.326733\n",
      "std        0.469794\n",
      "min        0.000000\n",
      "25%        0.000000\n",
      "50%        0.000000\n",
      "75%        1.000000\n",
      "max        1.000000\n",
      "Name: exang, dtype: float64\n",
      "Mode=\n",
      " 0    0\n",
      "dtype: int64\n"
     ]
    }
   ],
   "source": [
    "#Descriptive Statistics for Exercise Induced Angina Variable\n",
    "\n",
    "print('Descriptive Statistics for Exercise Induced Angina Variable:\\n', exang.describe())\n",
    "print('Mode=\\n', exang.mode())"
   ]
  },
  {
   "cell_type": "code",
   "execution_count": 19,
   "metadata": {},
   "outputs": [
    {
     "name": "stdout",
     "output_type": "stream",
     "text": [
      "Descriptive Statistics for Vessel Variable:\n",
      " count    303.000000\n",
      "mean       0.729373\n",
      "std        1.022606\n",
      "min        0.000000\n",
      "25%        0.000000\n",
      "50%        0.000000\n",
      "75%        1.000000\n",
      "max        4.000000\n",
      "Name: ca, dtype: float64\n",
      "Mode=\n",
      " 0    0\n",
      "dtype: int64\n"
     ]
    }
   ],
   "source": [
    "#Descriptive Statistics for our Vessel Variable.\n",
    "\n",
    "print('Descriptive Statistics for Vessel Variable:\\n', vessel.describe())\n",
    "print('Mode=\\n', vessel.mode())"
   ]
  },
  {
   "cell_type": "code",
   "execution_count": 20,
   "metadata": {},
   "outputs": [
    {
     "name": "stdout",
     "output_type": "stream",
     "text": [
      "Descriptive Statistics for Resting ECG Variable:\n",
      " count    303.000000\n",
      "mean       0.528053\n",
      "std        0.525860\n",
      "min        0.000000\n",
      "25%        0.000000\n",
      "50%        1.000000\n",
      "75%        1.000000\n",
      "max        2.000000\n",
      "Name: restecg, dtype: float64\n",
      "Mode=\n",
      " 0    1\n",
      "dtype: int64\n"
     ]
    }
   ],
   "source": [
    "#Descriptive Statistics for our Resting ECG Variable.\n",
    "\n",
    "print('Descriptive Statistics for Resting ECG Variable:\\n', restecg.describe())\n",
    "print('Mode=\\n', restecg.mode())"
   ]
  },
  {
   "cell_type": "code",
   "execution_count": 21,
   "metadata": {},
   "outputs": [
    {
     "name": "stdout",
     "output_type": "stream",
     "text": [
      "Descriptive Statistics for CAD Presence Variable:\n",
      " count    303.000000\n",
      "mean       0.544554\n",
      "std        0.498835\n",
      "min        0.000000\n",
      "25%        0.000000\n",
      "50%        1.000000\n",
      "75%        1.000000\n",
      "max        1.000000\n",
      "Name: target, dtype: float64\n",
      "Mode=\n",
      " 0    1\n",
      "dtype: int64\n"
     ]
    }
   ],
   "source": [
    "#Descriptive Statistics for our CAD Presence Variable.\n",
    "\n",
    "print('Descriptive Statistics for CAD Presence Variable:\\n', cad_presence.describe())\n",
    "print('Mode=\\n', cad_presence.mode())"
   ]
  },
  {
   "cell_type": "code",
   "execution_count": 22,
   "metadata": {},
   "outputs": [],
   "source": [
    "#Subsetting Variables for CAD Presence and Absence\n",
    "\n",
    "cadpres = data[['target','chol']]\n",
    "\n",
    "cadpresent = cadpres[cadpres.target == 1]\n",
    "cadnegative = cadpres[cadpres.target != 1]\n",
    "\n",
    "bpcad = data[['trestbps', 'target']]\n",
    "\n",
    "cadpresent2 = bpcad[bpcad.target == 1]\n",
    "cadnegative2 = bpcad[bpcad.target != 1]\n",
    "\n",
    "agecad = data[['age', 'target']]\n",
    "\n",
    "cadpresent3 = agecad[agecad.target == 1]\n",
    "cadnegative3 = agecad[agecad.target != 1]\n"
   ]
  },
  {
   "cell_type": "code",
   "execution_count": 23,
   "metadata": {},
   "outputs": [
    {
     "data": {
      "image/png": "[encoded data removed]",
      "text/plain": [
       "<Figure size 432x288 with 1 Axes>"
      ]
     },
     "metadata": {
      "needs_background": "light"
     },
     "output_type": "display_data"
    },
    {
     "data": {
      "text/plain": [
       "<Figure size 576x432 with 0 Axes>"
      ]
     },
     "metadata": {},
     "output_type": "display_data"
    }
   ],
   "source": [
    "#Generating PMF For CAD Presence and Absence with Cholesterol\n",
    "\n",
    "width = 0.015\n",
    "\n",
    "first_pmf = thinkstats2.Pmf(cadpresent['chol'])\n",
    "other_pmf = thinkstats2.Pmf(cadnegative['chol'])\n",
    "\n",
    "thinkplot.PrePlot(2)\n",
    "thinkplot.Pmf(first_pmf, align = 'right', width = width, label = 'CAD Positive')\n",
    "thinkplot.Pmf(other_pmf, align = 'left', width = width, label = 'CAD Negative')\n",
    "thinkplot.Config(xlabel = 'Total Cholesterol (mg/dl)',\n",
    "                ylabel = 'Probability')\n",
    "thinkplot.Show(title = 'PMF Of Cholesterol Values Separated By CAD Presence and Absence'\n",
    "               , xlabel = \"Total Cholesterol (mg/dl)\",)\n",
    "\n"
   ]
  },
  {
   "cell_type": "code",
   "execution_count": 24,
   "metadata": {},
   "outputs": [
    {
     "data": {
      "image/png": "[encoded data removed]",
      "text/plain": [
       "<Figure size 432x288 with 1 Axes>"
      ]
     },
     "metadata": {
      "needs_background": "light"
     },
     "output_type": "display_data"
    },
    {
     "data": {
      "text/plain": [
       "<Figure size 576x432 with 0 Axes>"
      ]
     },
     "metadata": {},
     "output_type": "display_data"
    }
   ],
   "source": [
    "#Generating PMF for Blood Pressure Values and CAD Presence/Absence\n",
    "\n",
    "width = 0.015\n",
    "\n",
    "first_pmf = thinkstats2.Pmf(cadpresent2['trestbps'])\n",
    "other_pmf = thinkstats2.Pmf(cadnegative2['trestbps'])\n",
    "\n",
    "thinkplot.PrePlot(2)\n",
    "thinkplot.Pmf(first_pmf, align = 'right', width = width, label = 'CAD Positive')\n",
    "thinkplot.Pmf(other_pmf, align = 'left', width = width, label = 'CAD Negative')\n",
    "thinkplot.Config(xlabel = 'Systolic Blood Pressure (mmHg)',\n",
    "                ylabel = 'Probability')\n",
    "thinkplot.Show(title = 'PMF Of Blood Pressure Values Separated By CAD Presence and Absence'\n",
    "               , xlabel = \"Systolic Blood Pressure (mmHg)\",)\n",
    "\n"
   ]
  },
  {
   "cell_type": "code",
   "execution_count": 25,
   "metadata": {},
   "outputs": [
    {
     "data": {
      "image/png": "[encoded data removed]",
      "text/plain": [
       "<Figure size 432x288 with 1 Axes>"
      ]
     },
     "metadata": {
      "needs_background": "light"
     },
     "output_type": "display_data"
    },
    {
     "data": {
      "text/plain": [
       "<Figure size 576x432 with 0 Axes>"
      ]
     },
     "metadata": {},
     "output_type": "display_data"
    }
   ],
   "source": [
    "#Generating PMF For Age and CAD Presence/Absence\n",
    "\n",
    "width = 0.015\n",
    "\n",
    "first_pmf = thinkstats2.Pmf(cadpresent3['age'])\n",
    "other_pmf = thinkstats2.Pmf(cadnegative3['age'])\n",
    "\n",
    "thinkplot.PrePlot(2)\n",
    "thinkplot.Pmf(first_pmf, align = 'right', width = width, label = 'CAD Positive')\n",
    "thinkplot.Pmf(other_pmf, align = 'left', width = width, label = 'CAD Negative')\n",
    "thinkplot.Config(xlabel = 'Age (Years)',\n",
    "                ylabel = 'Probability')\n",
    "thinkplot.Show(title = 'PMF Of Age Separated By CAD Presence and Absence'\n",
    "               , xlabel = \"Age (Years)\",)"
   ]
  },
  {
   "cell_type": "code",
   "execution_count": 26,
   "metadata": {},
   "outputs": [
    {
     "data": {
      "image/png": "[encoded data removed]",
      "text/plain": [
       "<Figure size 432x288 with 1 Axes>"
      ]
     },
     "metadata": {
      "needs_background": "light"
     },
     "output_type": "display_data"
    },
    {
     "data": {
      "text/plain": [
       "<Figure size 576x432 with 0 Axes>"
      ]
     },
     "metadata": {},
     "output_type": "display_data"
    }
   ],
   "source": [
    "#Plotting CDF for Age\n",
    "\n",
    "cdf = thinkstats2.Cdf(data.age)\n",
    "thinkplot.Cdf(cdf)\n",
    "thinkplot.Show(title = 'CDF of Age', xlabel = \"Age (years)\", ylabel = \"CDF\")"
   ]
  },
  {
   "cell_type": "code",
   "execution_count": 27,
   "metadata": {
    "scrolled": true
   },
   "outputs": [
    {
     "data": {
      "image/png": "[encoded data removed]",
      "text/plain": [
       "<Figure size 432x288 with 1 Axes>"
      ]
     },
     "metadata": {
      "needs_background": "light"
     },
     "output_type": "display_data"
    },
    {
     "data": {
      "text/plain": [
       "<Figure size 576x432 with 0 Axes>"
      ]
     },
     "metadata": {},
     "output_type": "display_data"
    }
   ],
   "source": [
    "#Plotting CDF for Resting BP\n",
    "\n",
    "cdf = thinkstats2.Cdf(data.trestbps)\n",
    "thinkplot.Cdf(cdf)\n",
    "thinkplot.Show(title = 'CDF of Systolic Blood Pressure', xlabel = \"Resting Systolic Blood Pressure (mmHg)\", ylabel = \"CDF\")"
   ]
  },
  {
   "cell_type": "code",
   "execution_count": 28,
   "metadata": {},
   "outputs": [
    {
     "data": {
      "image/png": "[encoded data removed]",
      "text/plain": [
       "<Figure size 432x288 with 1 Axes>"
      ]
     },
     "metadata": {
      "needs_background": "light"
     },
     "output_type": "display_data"
    },
    {
     "data": {
      "text/plain": [
       "<Figure size 576x432 with 0 Axes>"
      ]
     },
     "metadata": {},
     "output_type": "display_data"
    }
   ],
   "source": [
    "#Plotting CDF for Cholesterol\n",
    "\n",
    "cdf = thinkstats2.Cdf(data.chol)\n",
    "thinkplot.Cdf(cdf)\n",
    "thinkplot.Show(title = 'CDF for Cholesterol', xlabel = \"Cholesterol (mg/dL)\", ylabel = \"CDF\")"
   ]
  },
  {
   "cell_type": "code",
   "execution_count": 29,
   "metadata": {},
   "outputs": [
    {
     "data": {
      "image/png": "[encoded data removed]",
      "text/plain": [
       "<Figure size 432x288 with 1 Axes>"
      ]
     },
     "metadata": {
      "needs_background": "light"
     },
     "output_type": "display_data"
    },
    {
     "data": {
      "text/plain": [
       "<Figure size 576x432 with 0 Axes>"
      ]
     },
     "metadata": {},
     "output_type": "display_data"
    }
   ],
   "source": [
    "#Plotting lognormal distribution for age variable\n",
    "\n",
    "def MakeNormalPlot(age):\n",
    "    mean = age.mean()\n",
    "    std = age.std()\n",
    "    \n",
    "    xs = [-4, 4]\n",
    "    fxs, fys = thinkstats2.FitLine(xs, inter=mean, slope=std)\n",
    "    thinkplot.Plot(fxs, fys, color = 'blue', label = 'Model')\n",
    "    \n",
    "    xs, ys = thinkstats2.NormalProbability(age)\n",
    "    thinkplot.Plot(xs, ys, label = 'Age')\n",
    "    thinkplot.Show(title = 'Normal Probability Plot for Age Variable', xlabel = 'Standard Normal Sample', ylabel = 'Sample Values')\n",
    "    \n",
    "MakeNormalPlot(age)"
   ]
  },
  {
   "cell_type": "code",
   "execution_count": 30,
   "metadata": {},
   "outputs": [
    {
     "data": {
      "image/png": "[encoded data removed]",
      "text/plain": [
       "<Figure size 432x288 with 1 Axes>"
      ]
     },
     "metadata": {
      "needs_background": "light"
     },
     "output_type": "display_data"
    },
    {
     "data": {
      "text/plain": [
       "<Figure size 576x432 with 0 Axes>"
      ]
     },
     "metadata": {},
     "output_type": "display_data"
    }
   ],
   "source": [
    "def MakeNormalPlot(resting_bp):\n",
    "    mean = age.mean()\n",
    "    std = age.std()\n",
    "    \n",
    "    xs = [-4, 4]\n",
    "    fxs, fys = thinkstats2.FitLine(xs, inter=mean, slope=std)\n",
    "    thinkplot.Plot(fxs, fys, color = 'blue', label = 'Model')\n",
    "    \n",
    "    xs, ys = thinkstats2.NormalProbability(age)\n",
    "    thinkplot.Plot(xs, ys, label = 'Resting Systolic BP')\n",
    "    thinkplot.Show(title = 'Normal Probability Plot for Age Variable', xlabel = 'Standard Normal Sample', ylabel = 'Sample Values')\n",
    "    \n",
    "MakeNormalPlot(resting_bp)"
   ]
  },
  {
   "cell_type": "code",
   "execution_count": 31,
   "metadata": {},
   "outputs": [
    {
     "data": {
      "image/png": "[encoded data removed]",
      "text/plain": [
       "<Figure size 432x288 with 1 Axes>"
      ]
     },
     "metadata": {
      "needs_background": "light"
     },
     "output_type": "display_data"
    },
    {
     "data": {
      "text/plain": [
       "<Figure size 576x432 with 0 Axes>"
      ]
     },
     "metadata": {},
     "output_type": "display_data"
    }
   ],
   "source": [
    "def MakeNormalPlot(chol):\n",
    "    mean = age.mean()\n",
    "    std = age.std()\n",
    "    \n",
    "    xs = [-4, 4]\n",
    "    fxs, fys = thinkstats2.FitLine(xs, inter=mean, slope=std)\n",
    "    thinkplot.Plot(fxs, fys, color = 'blue', label = 'Model')\n",
    "    \n",
    "    xs, ys = thinkstats2.NormalProbability(age)\n",
    "    thinkplot.Plot(xs, ys, label = 'Cholesterol')\n",
    "    thinkplot.Show(title = 'Normal Probability Plot for Age Variable', xlabel = 'Standard Normal Sample', ylabel = 'Sample Values')\n",
    "    \n",
    "MakeNormalPlot(chol)"
   ]
  },
  {
   "cell_type": "code",
   "execution_count": 32,
   "metadata": {},
   "outputs": [
    {
     "data": {
      "image/png": "[encoded data removed]",
      "text/plain": [
       "<Figure size 432x288 with 1 Axes>"
      ]
     },
     "metadata": {
      "needs_background": "light"
     },
     "output_type": "display_data"
    },
    {
     "data": {
      "text/plain": [
       "<Figure size 576x432 with 0 Axes>"
      ]
     },
     "metadata": {},
     "output_type": "display_data"
    }
   ],
   "source": [
    "#Generating Scatter Plot Between Age and Cholesterol\n",
    "\n",
    "thinkplot.Scatter(age, chol)\n",
    "thinkplot.Show(title = \"Scatterplot of Age vs. Cholesterol Values\",\n",
    "               xlabel = 'Age (years)',\n",
    "               ylabel = \"Cholesterol (mg/dL)\")"
   ]
  },
  {
   "cell_type": "code",
   "execution_count": 33,
   "metadata": {},
   "outputs": [
    {
     "data": {
      "image/png": "[encoded data removed]",
      "text/plain": [
       "<Figure size 432x288 with 1 Axes>"
      ]
     },
     "metadata": {
      "needs_background": "light"
     },
     "output_type": "display_data"
    },
    {
     "data": {
      "text/plain": [
       "<Figure size 576x432 with 0 Axes>"
      ]
     },
     "metadata": {},
     "output_type": "display_data"
    }
   ],
   "source": [
    "#Generating Scatter Plot Between Age and CAD Presence\n",
    "\n",
    "thinkplot.Scatter(age, cad_presence)\n",
    "thinkplot.Show(title = \"Scatterplot of Age vs. CAD Presence\",\n",
    "              xlabel = \"Age (years)\",\n",
    "              ylabel = \"CAD Presence\")"
   ]
  },
  {
   "cell_type": "code",
   "execution_count": 34,
   "metadata": {},
   "outputs": [
    {
     "data": {
      "image/png": "[encoded data removed]",
      "text/plain": [
       "<Figure size 432x288 with 1 Axes>"
      ]
     },
     "metadata": {
      "needs_background": "light"
     },
     "output_type": "display_data"
    },
    {
     "data": {
      "image/png": "[encoded data removed]",
      "text/plain": [
       "<Figure size 576x432 with 1 Axes>"
      ]
     },
     "metadata": {
      "needs_background": "light"
     },
     "output_type": "display_data"
    },
    {
     "data": {
      "text/plain": [
       "<Figure size 576x432 with 0 Axes>"
      ]
     },
     "metadata": {},
     "output_type": "display_data"
    }
   ],
   "source": [
    "#Generating Scatterplot Between Age and BP\n",
    "\n",
    "thinkplot.Scatter(age, resting_bp)\n",
    "thinkplot.Show(title = 'Scatterplot of Age vs. BP',\n",
    "              xlabel = \"Age (years)\",\n",
    "              ylabel = \"Systolic Blood Pressure (mmHg)\")\n",
    "\n",
    "\n",
    "#Generating Scatterplot Between Max HR and CAD Presence or Absence\n",
    "\n",
    "thinkplot.Scatter(maxhr, cad_presence)\n",
    "thinkplot.Show(title = 'Scatterplot of Max HR vs. CAD Presence',\n",
    "              xlabel = 'Max HR (bpm)',\n",
    "              ylabel = \"CAD Presence\")\n"
   ]
  },
  {
   "cell_type": "code",
   "execution_count": 35,
   "metadata": {},
   "outputs": [
    {
     "data": {
      "image/png": "[encoded data removed]",
      "text/plain": [
       "<Figure size 432x288 with 1 Axes>"
      ]
     },
     "metadata": {
      "needs_background": "light"
     },
     "output_type": "display_data"
    },
    {
     "data": {
      "text/plain": [
       "<Figure size 576x432 with 0 Axes>"
      ]
     },
     "metadata": {},
     "output_type": "display_data"
    }
   ],
   "source": [
    "#Generating Scatterplot Between Cholesterol and BP\n",
    "\n",
    "thinkplot.Scatter(chol, resting_bp)\n",
    "thinkplot.Show(title = 'Scatterplot of Cholesterol vs. BP',\n",
    "              xlabel = \"Cholesterol (mg/dL)\",\n",
    "              ylabel = \"Systolic Blood Pressure (mmHg)\")"
   ]
  },
  {
   "cell_type": "code",
   "execution_count": 36,
   "metadata": {},
   "outputs": [
    {
     "data": {
      "text/plain": [
       "SpearmanrResult(correlation=0.19578599445342354, pvalue=0.0006099143222853829)"
      ]
     },
     "execution_count": 36,
     "metadata": {},
     "output_type": "execute_result"
    }
   ],
   "source": [
    "spearmanr(age, chol)"
   ]
  },
  {
   "cell_type": "code",
   "execution_count": 37,
   "metadata": {},
   "outputs": [
    {
     "data": {
      "text/plain": [
       "SpearmanrResult(correlation=-0.23840007068165472, pvalue=2.749629002494309e-05)"
      ]
     },
     "execution_count": 37,
     "metadata": {},
     "output_type": "execute_result"
    }
   ],
   "source": [
    "spearmanr(age, cad_presence)"
   ]
  },
  {
   "cell_type": "code",
   "execution_count": 38,
   "metadata": {},
   "outputs": [
    {
     "data": {
      "text/plain": [
       "SpearmanrResult(correlation=-0.12088824156566064, pvalue=0.03543859768753631)"
      ]
     },
     "execution_count": 38,
     "metadata": {},
     "output_type": "execute_result"
    }
   ],
   "source": [
    "spearmanr(chol, cad_presence)"
   ]
  },
  {
   "cell_type": "code",
   "execution_count": 39,
   "metadata": {},
   "outputs": [
    {
     "data": {
      "text/plain": [
       "SpearmanrResult(correlation=-0.12159275169859758, pvalue=0.03437372848974978)"
      ]
     },
     "execution_count": 39,
     "metadata": {},
     "output_type": "execute_result"
    }
   ],
   "source": [
    "spearmanr(resting_bp, cad_presence)"
   ]
  },
  {
   "cell_type": "code",
   "execution_count": 40,
   "metadata": {},
   "outputs": [
    {
     "data": {
      "text/plain": [
       "SpearmanrResult(correlation=-0.43675708335330304, pvalue=1.5208138383314295e-15)"
      ]
     },
     "execution_count": 40,
     "metadata": {},
     "output_type": "execute_result"
    }
   ],
   "source": [
    "spearmanr(exang, cad_presence)"
   ]
  },
  {
   "cell_type": "code",
   "execution_count": 41,
   "metadata": {},
   "outputs": [
    {
     "data": {
      "text/plain": [
       "SpearmanrResult(correlation=0.28561681085475227, pvalue=4.2617094650124673e-07)"
      ]
     },
     "execution_count": 41,
     "metadata": {},
     "output_type": "execute_result"
    }
   ],
   "source": [
    "spearmanr(age, resting_bp)"
   ]
  },
  {
   "cell_type": "code",
   "execution_count": 42,
   "metadata": {},
   "outputs": [
    {
     "data": {
      "text/plain": [
       "SpearmanrResult(correlation=0.1265616334594462, pvalue=0.027608539162108658)"
      ]
     },
     "execution_count": 42,
     "metadata": {},
     "output_type": "execute_result"
    }
   ],
   "source": [
    "spearmanr(chol, resting_bp)"
   ]
  },
  {
   "cell_type": "code",
   "execution_count": 43,
   "metadata": {},
   "outputs": [
    {
     "data": {
      "text/plain": [
       "SpearmanrResult(correlation=0.148611539362244, pvalue=0.009581602703497604)"
      ]
     },
     "execution_count": 43,
     "metadata": {},
     "output_type": "execute_result"
    }
   ],
   "source": [
    "spearmanr(restecg, cad_presence)"
   ]
  },
  {
   "cell_type": "code",
   "execution_count": 44,
   "metadata": {
    "scrolled": true
   },
   "outputs": [
    {
     "data": {
      "text/html": [
       "<div>\n",
       "<style scoped>\n",
       "    .dataframe tbody tr th:only-of-type {\n",
       "        vertical-align: middle;\n",
       "    }\n",
       "\n",
       "    .dataframe tbody tr th {\n",
       "        vertical-align: top;\n",
       "    }\n",
       "\n",
       "    .dataframe thead th {\n",
       "        text-align: right;\n",
       "    }\n",
       "</style>\n",
       "<table border=\"1\" class=\"dataframe\">\n",
       "  <thead>\n",
       "    <tr style=\"text-align: right;\">\n",
       "      <th></th>\n",
       "      <th>age</th>\n",
       "      <th>sex</th>\n",
       "      <th>cp</th>\n",
       "      <th>trestbps</th>\n",
       "      <th>chol</th>\n",
       "      <th>fbs</th>\n",
       "      <th>restecg</th>\n",
       "      <th>thalach</th>\n",
       "      <th>exang</th>\n",
       "      <th>oldpeak</th>\n",
       "      <th>slope</th>\n",
       "      <th>ca</th>\n",
       "      <th>thal</th>\n",
       "      <th>target</th>\n",
       "    </tr>\n",
       "  </thead>\n",
       "  <tbody>\n",
       "    <tr>\n",
       "      <td>age</td>\n",
       "      <td>1.000000</td>\n",
       "      <td>-0.099131</td>\n",
       "      <td>-0.087494</td>\n",
       "      <td>0.285617</td>\n",
       "      <td>0.195786</td>\n",
       "      <td>0.113978</td>\n",
       "      <td>-0.132769</td>\n",
       "      <td>-0.398052</td>\n",
       "      <td>0.089679</td>\n",
       "      <td>0.268291</td>\n",
       "      <td>-0.184048</td>\n",
       "      <td>0.340955</td>\n",
       "      <td>0.087254</td>\n",
       "      <td>-0.238400</td>\n",
       "    </tr>\n",
       "    <tr>\n",
       "      <td>sex</td>\n",
       "      <td>-0.099131</td>\n",
       "      <td>1.000000</td>\n",
       "      <td>-0.062041</td>\n",
       "      <td>-0.052941</td>\n",
       "      <td>-0.151342</td>\n",
       "      <td>0.045032</td>\n",
       "      <td>-0.048389</td>\n",
       "      <td>-0.039868</td>\n",
       "      <td>0.141664</td>\n",
       "      <td>0.100715</td>\n",
       "      <td>-0.025010</td>\n",
       "      <td>0.119368</td>\n",
       "      <td>0.250821</td>\n",
       "      <td>-0.280937</td>\n",
       "    </tr>\n",
       "    <tr>\n",
       "      <td>cp</td>\n",
       "      <td>-0.087494</td>\n",
       "      <td>-0.062041</td>\n",
       "      <td>1.000000</td>\n",
       "      <td>0.035413</td>\n",
       "      <td>-0.091721</td>\n",
       "      <td>0.089775</td>\n",
       "      <td>0.065640</td>\n",
       "      <td>0.324013</td>\n",
       "      <td>-0.418256</td>\n",
       "      <td>-0.161449</td>\n",
       "      <td>0.159478</td>\n",
       "      <td>-0.216006</td>\n",
       "      <td>-0.207840</td>\n",
       "      <td>0.460860</td>\n",
       "    </tr>\n",
       "    <tr>\n",
       "      <td>trestbps</td>\n",
       "      <td>0.285617</td>\n",
       "      <td>-0.052941</td>\n",
       "      <td>0.035413</td>\n",
       "      <td>1.000000</td>\n",
       "      <td>0.126562</td>\n",
       "      <td>0.151984</td>\n",
       "      <td>-0.125841</td>\n",
       "      <td>-0.040407</td>\n",
       "      <td>0.052918</td>\n",
       "      <td>0.154267</td>\n",
       "      <td>-0.086570</td>\n",
       "      <td>0.090140</td>\n",
       "      <td>0.059673</td>\n",
       "      <td>-0.121593</td>\n",
       "    </tr>\n",
       "    <tr>\n",
       "      <td>chol</td>\n",
       "      <td>0.195786</td>\n",
       "      <td>-0.151342</td>\n",
       "      <td>-0.091721</td>\n",
       "      <td>0.126562</td>\n",
       "      <td>1.000000</td>\n",
       "      <td>0.018463</td>\n",
       "      <td>-0.161933</td>\n",
       "      <td>-0.046766</td>\n",
       "      <td>0.091514</td>\n",
       "      <td>0.045260</td>\n",
       "      <td>-0.012551</td>\n",
       "      <td>0.111981</td>\n",
       "      <td>0.083628</td>\n",
       "      <td>-0.120888</td>\n",
       "    </tr>\n",
       "    <tr>\n",
       "      <td>fbs</td>\n",
       "      <td>0.113978</td>\n",
       "      <td>0.045032</td>\n",
       "      <td>0.089775</td>\n",
       "      <td>0.151984</td>\n",
       "      <td>0.018463</td>\n",
       "      <td>1.000000</td>\n",
       "      <td>-0.081508</td>\n",
       "      <td>-0.014273</td>\n",
       "      <td>0.025665</td>\n",
       "      <td>0.028363</td>\n",
       "      <td>-0.045786</td>\n",
       "      <td>0.134513</td>\n",
       "      <td>-0.006737</td>\n",
       "      <td>-0.028046</td>\n",
       "    </tr>\n",
       "    <tr>\n",
       "      <td>restecg</td>\n",
       "      <td>-0.132769</td>\n",
       "      <td>-0.048389</td>\n",
       "      <td>0.065640</td>\n",
       "      <td>-0.125841</td>\n",
       "      <td>-0.161933</td>\n",
       "      <td>-0.081508</td>\n",
       "      <td>1.000000</td>\n",
       "      <td>0.087863</td>\n",
       "      <td>-0.077399</td>\n",
       "      <td>-0.077372</td>\n",
       "      <td>0.113661</td>\n",
       "      <td>-0.097862</td>\n",
       "      <td>-0.010982</td>\n",
       "      <td>0.148612</td>\n",
       "    </tr>\n",
       "    <tr>\n",
       "      <td>thalach</td>\n",
       "      <td>-0.398052</td>\n",
       "      <td>-0.039868</td>\n",
       "      <td>0.324013</td>\n",
       "      <td>-0.040407</td>\n",
       "      <td>-0.046766</td>\n",
       "      <td>-0.014273</td>\n",
       "      <td>0.087863</td>\n",
       "      <td>1.000000</td>\n",
       "      <td>-0.400860</td>\n",
       "      <td>-0.433241</td>\n",
       "      <td>0.436968</td>\n",
       "      <td>-0.257347</td>\n",
       "      <td>-0.160581</td>\n",
       "      <td>0.428370</td>\n",
       "    </tr>\n",
       "    <tr>\n",
       "      <td>exang</td>\n",
       "      <td>0.089679</td>\n",
       "      <td>0.141664</td>\n",
       "      <td>-0.418256</td>\n",
       "      <td>0.052918</td>\n",
       "      <td>0.091514</td>\n",
       "      <td>0.025665</td>\n",
       "      <td>-0.077399</td>\n",
       "      <td>-0.400860</td>\n",
       "      <td>1.000000</td>\n",
       "      <td>0.297173</td>\n",
       "      <td>-0.274475</td>\n",
       "      <td>0.162025</td>\n",
       "      <td>0.247113</td>\n",
       "      <td>-0.436757</td>\n",
       "    </tr>\n",
       "    <tr>\n",
       "      <td>oldpeak</td>\n",
       "      <td>0.268291</td>\n",
       "      <td>0.100715</td>\n",
       "      <td>-0.161449</td>\n",
       "      <td>0.154267</td>\n",
       "      <td>0.045260</td>\n",
       "      <td>0.028363</td>\n",
       "      <td>-0.077372</td>\n",
       "      <td>-0.433241</td>\n",
       "      <td>0.297173</td>\n",
       "      <td>1.000000</td>\n",
       "      <td>-0.594847</td>\n",
       "      <td>0.224895</td>\n",
       "      <td>0.255026</td>\n",
       "      <td>-0.421487</td>\n",
       "    </tr>\n",
       "    <tr>\n",
       "      <td>slope</td>\n",
       "      <td>-0.184048</td>\n",
       "      <td>-0.025010</td>\n",
       "      <td>0.159478</td>\n",
       "      <td>-0.086570</td>\n",
       "      <td>-0.012551</td>\n",
       "      <td>-0.045786</td>\n",
       "      <td>0.113661</td>\n",
       "      <td>0.436968</td>\n",
       "      <td>-0.274475</td>\n",
       "      <td>-0.594847</td>\n",
       "      <td>1.000000</td>\n",
       "      <td>-0.099901</td>\n",
       "      <td>-0.154886</td>\n",
       "      <td>0.371460</td>\n",
       "    </tr>\n",
       "    <tr>\n",
       "      <td>ca</td>\n",
       "      <td>0.340955</td>\n",
       "      <td>0.119368</td>\n",
       "      <td>-0.216006</td>\n",
       "      <td>0.090140</td>\n",
       "      <td>0.111981</td>\n",
       "      <td>0.134513</td>\n",
       "      <td>-0.097862</td>\n",
       "      <td>-0.257347</td>\n",
       "      <td>0.162025</td>\n",
       "      <td>0.224895</td>\n",
       "      <td>-0.099901</td>\n",
       "      <td>1.000000</td>\n",
       "      <td>0.189103</td>\n",
       "      <td>-0.457607</td>\n",
       "    </tr>\n",
       "    <tr>\n",
       "      <td>thal</td>\n",
       "      <td>0.087254</td>\n",
       "      <td>0.250821</td>\n",
       "      <td>-0.207840</td>\n",
       "      <td>0.059673</td>\n",
       "      <td>0.083628</td>\n",
       "      <td>-0.006737</td>\n",
       "      <td>-0.010982</td>\n",
       "      <td>-0.160581</td>\n",
       "      <td>0.247113</td>\n",
       "      <td>0.255026</td>\n",
       "      <td>-0.154886</td>\n",
       "      <td>0.189103</td>\n",
       "      <td>1.000000</td>\n",
       "      <td>-0.403299</td>\n",
       "    </tr>\n",
       "    <tr>\n",
       "      <td>target</td>\n",
       "      <td>-0.238400</td>\n",
       "      <td>-0.280937</td>\n",
       "      <td>0.460860</td>\n",
       "      <td>-0.121593</td>\n",
       "      <td>-0.120888</td>\n",
       "      <td>-0.028046</td>\n",
       "      <td>0.148612</td>\n",
       "      <td>0.428370</td>\n",
       "      <td>-0.436757</td>\n",
       "      <td>-0.421487</td>\n",
       "      <td>0.371460</td>\n",
       "      <td>-0.457607</td>\n",
       "      <td>-0.403299</td>\n",
       "      <td>1.000000</td>\n",
       "    </tr>\n",
       "  </tbody>\n",
       "</table>\n",
       "</div>"
      ],
      "text/plain": [
       "               age       sex        cp  trestbps      chol       fbs  \\\n",
       "age       1.000000 -0.099131 -0.087494  0.285617  0.195786  0.113978   \n",
       "sex      -0.099131  1.000000 -0.062041 -0.052941 -0.151342  0.045032   \n",
       "cp       -0.087494 -0.062041  1.000000  0.035413 -0.091721  0.089775   \n",
       "trestbps  0.285617 -0.052941  0.035413  1.000000  0.126562  0.151984   \n",
       "chol      0.195786 -0.151342 -0.091721  0.126562  1.000000  0.018463   \n",
       "fbs       0.113978  0.045032  0.089775  0.151984  0.018463  1.000000   \n",
       "restecg  -0.132769 -0.048389  0.065640 -0.125841 -0.161933 -0.081508   \n",
       "thalach  -0.398052 -0.039868  0.324013 -0.040407 -0.046766 -0.014273   \n",
       "exang     0.089679  0.141664 -0.418256  0.052918  0.091514  0.025665   \n",
       "oldpeak   0.268291  0.100715 -0.161449  0.154267  0.045260  0.028363   \n",
       "slope    -0.184048 -0.025010  0.159478 -0.086570 -0.012551 -0.045786   \n",
       "ca        0.340955  0.119368 -0.216006  0.090140  0.111981  0.134513   \n",
       "thal      0.087254  0.250821 -0.207840  0.059673  0.083628 -0.006737   \n",
       "target   -0.238400 -0.280937  0.460860 -0.121593 -0.120888 -0.028046   \n",
       "\n",
       "           restecg   thalach     exang   oldpeak     slope        ca  \\\n",
       "age      -0.132769 -0.398052  0.089679  0.268291 -0.184048  0.340955   \n",
       "sex      -0.048389 -0.039868  0.141664  0.100715 -0.025010  0.119368   \n",
       "cp        0.065640  0.324013 -0.418256 -0.161449  0.159478 -0.216006   \n",
       "trestbps -0.125841 -0.040407  0.052918  0.154267 -0.086570  0.090140   \n",
       "chol     -0.161933 -0.046766  0.091514  0.045260 -0.012551  0.111981   \n",
       "fbs      -0.081508 -0.014273  0.025665  0.028363 -0.045786  0.134513   \n",
       "restecg   1.000000  0.087863 -0.077399 -0.077372  0.113661 -0.097862   \n",
       "thalach   0.087863  1.000000 -0.400860 -0.433241  0.436968 -0.257347   \n",
       "exang    -0.077399 -0.400860  1.000000  0.297173 -0.274475  0.162025   \n",
       "oldpeak  -0.077372 -0.433241  0.297173  1.000000 -0.594847  0.224895   \n",
       "slope     0.113661  0.436968 -0.274475 -0.594847  1.000000 -0.099901   \n",
       "ca       -0.097862 -0.257347  0.162025  0.224895 -0.099901  1.000000   \n",
       "thal     -0.010982 -0.160581  0.247113  0.255026 -0.154886  0.189103   \n",
       "target    0.148612  0.428370 -0.436757 -0.421487  0.371460 -0.457607   \n",
       "\n",
       "              thal    target  \n",
       "age       0.087254 -0.238400  \n",
       "sex       0.250821 -0.280937  \n",
       "cp       -0.207840  0.460860  \n",
       "trestbps  0.059673 -0.121593  \n",
       "chol      0.083628 -0.120888  \n",
       "fbs      -0.006737 -0.028046  \n",
       "restecg  -0.010982  0.148612  \n",
       "thalach  -0.160581  0.428370  \n",
       "exang     0.247113 -0.436757  \n",
       "oldpeak   0.255026 -0.421487  \n",
       "slope    -0.154886  0.371460  \n",
       "ca        0.189103 -0.457607  \n",
       "thal      1.000000 -0.403299  \n",
       "target   -0.403299  1.000000  "
      ]
     },
     "execution_count": 44,
     "metadata": {},
     "output_type": "execute_result"
    }
   ],
   "source": [
    "data.corr(method='spearman')"
   ]
  },
  {
   "cell_type": "code",
   "execution_count": 45,
   "metadata": {},
   "outputs": [
    {
     "name": "stdout",
     "output_type": "stream",
     "text": [
      "0.001\n"
     ]
    }
   ],
   "source": [
    "#Hypothesis Testing Using Spearman's Correlation\n",
    "\n",
    "class HypothesisTest(object):\n",
    "\n",
    "    def __init__(self, data):\n",
    "        self.data = data\n",
    "        self.MakeModel()\n",
    "        self.actual = self.TestStatistic(data)\n",
    "\n",
    "    def PValue(self, iters=1000):\n",
    "        self.test_stats = [self.TestStatistic(self.RunModel()) \n",
    "                           for _ in range(iters)]\n",
    "\n",
    "        count = sum(1 for x in self.test_stats if x >= self.actual)\n",
    "        return count / iters\n",
    "\n",
    "    def TestStatistic(self, data):\n",
    "        raise UnimplementedMethodException()\n",
    "\n",
    "    def MakeModel(self):\n",
    "        pass\n",
    "\n",
    "    def RunModel(self):\n",
    "        raise UnimplementedMethodException()\n",
    "\n",
    "class CorrelationPermute(thinkstats2.HypothesisTest):\n",
    "\n",
    "    def TestStatistic(self, data):\n",
    "        xs, ys = data\n",
    "        test_stat = abs(thinkstats2.SpearmanCorr(xs, ys))\n",
    "        return test_stat\n",
    "\n",
    "    def RunModel(self):\n",
    "        xs, ys = self.data\n",
    "        xs = np.random.permutation(xs)\n",
    "        return xs, ys\n",
    "\n",
    "data2 = data.dropna(subset=['age', 'chol'])\n",
    "data3 = data2.age.values, data2.chol.values\n",
    "ht = CorrelationPermute(data3)\n",
    "pvalue = ht.PValue()\n",
    "\n",
    "print(pvalue)"
   ]
  },
  {
   "cell_type": "code",
   "execution_count": 46,
   "metadata": {},
   "outputs": [
    {
     "name": "stdout",
     "output_type": "stream",
     "text": [
      "0.0\n"
     ]
    }
   ],
   "source": [
    "data4 = data.dropna(subset=['age', 'trestbps'])\n",
    "data5 = data.age.values, data.trestbps.values\n",
    "ht = CorrelationPermute(data5)\n",
    "pvalue = ht.PValue()\n",
    "\n",
    "print(pvalue)"
   ]
  },
  {
   "cell_type": "code",
   "execution_count": 47,
   "metadata": {},
   "outputs": [
    {
     "name": "stdout",
     "output_type": "stream",
     "text": [
      "0.0\n"
     ]
    }
   ],
   "source": [
    "data6 = data.dropna(subset=['chol', 'trestbps'])\n",
    "data7 = data.chol.values, data.trestbps.values\n",
    "ht = CorrelationPermute(data5)\n",
    "pvalue = ht.PValue()\n",
    "\n",
    "print(pvalue)"
   ]
  },
  {
   "cell_type": "code",
   "execution_count": 48,
   "metadata": {},
   "outputs": [],
   "source": [
    "#Based on this hypothesis testing on the three spearman correlations these all have p-values <0.001 meaning that a \n",
    "#statistically significant relationship based on those correlations is likely and these are unlikely to have occurred \n",
    "#by chance."
   ]
  },
  {
   "cell_type": "code",
   "execution_count": 49,
   "metadata": {
    "scrolled": true
   },
   "outputs": [
    {
     "name": "stdout",
     "output_type": "stream",
     "text": [
      "Optimization terminated successfully.\n",
      "         Current function value: 0.658835\n",
      "         Iterations 5\n",
      "                           Logit Regression Results                           \n",
      "==============================================================================\n",
      "Dep. Variable:           cad_presence   No. Observations:                  303\n",
      "Model:                          Logit   Df Residuals:                      299\n",
      "Method:                           MLE   Df Model:                            3\n",
      "Date:                Mon, 24 Feb 2020   Pseudo R-squ.:                 0.04402\n",
      "Time:                        17:24:25   Log-Likelihood:                -199.63\n",
      "converged:                       True   LL-Null:                       -208.82\n",
      "Covariance Type:            nonrobust   LLR p-value:                 0.0003665\n",
      "==============================================================================\n",
      "                 coef    std err          z      P>|z|      [0.025      0.975]\n",
      "------------------------------------------------------------------------------\n",
      "Intercept      4.3543      1.132      3.846      0.000       2.135       6.573\n",
      "age           -0.0453      0.014     -3.175      0.001      -0.073      -0.017\n",
      "chol          -0.0014      0.002     -0.585      0.558      -0.006       0.003\n",
      "resting_bp    -0.0103      0.007     -1.453      0.146      -0.024       0.004\n",
      "==============================================================================\n"
     ]
    },
    {
     "data": {
      "text/plain": [
       "Intercept     77.812017\n",
       "age            0.955669\n",
       "chol           0.998623\n",
       "resting_bp     0.989729\n",
       "dtype: float64"
      ]
     },
     "execution_count": 49,
     "metadata": {},
     "output_type": "execute_result"
    }
   ],
   "source": [
    "#Regression Analyses using CAD Presence as Outcome (Dependent Variable)\n",
    "\n",
    "formula = 'cad_presence ~ age + chol + resting_bp'\n",
    "results = smf.logit(formula, data = data).fit()\n",
    "print(results.summary())\n",
    "np.exp(results.params)"
   ]
  },
  {
   "cell_type": "code",
   "execution_count": 50,
   "metadata": {},
   "outputs": [
    {
     "name": "stdout",
     "output_type": "stream",
     "text": [
      "Optimization terminated successfully.\n",
      "         Current function value: 0.663138\n",
      "         Iterations 5\n",
      "                           Logit Regression Results                           \n",
      "==============================================================================\n",
      "Dep. Variable:           cad_presence   No. Observations:                  303\n",
      "Model:                          Logit   Df Residuals:                      301\n",
      "Method:                           MLE   Df Model:                            1\n",
      "Date:                Mon, 24 Feb 2020   Pseudo R-squ.:                 0.03778\n",
      "Time:                        17:24:25   Log-Likelihood:                -200.93\n",
      "converged:                       True   LL-Null:                       -208.82\n",
      "Covariance Type:            nonrobust   LLR p-value:                 7.128e-05\n",
      "==============================================================================\n",
      "                 coef    std err          z      P>|z|      [0.025      0.975]\n",
      "------------------------------------------------------------------------------\n",
      "Intercept      3.0362      0.756      4.014      0.000       1.554       4.519\n",
      "age           -0.0524      0.014     -3.841      0.000      -0.079      -0.026\n",
      "==============================================================================\n"
     ]
    },
    {
     "data": {
      "text/plain": [
       "Intercept    20.826672\n",
       "age           0.948995\n",
       "dtype: float64"
      ]
     },
     "execution_count": 50,
     "metadata": {},
     "output_type": "execute_result"
    }
   ],
   "source": [
    "#Regressions Analyses Using CAD Presence as Outcome(Dependent Variable)\n",
    "\n",
    "formula = 'cad_presence ~ age'\n",
    "results = smf.logit(formula, data = data).fit()\n",
    "print(results.summary())\n",
    "np.exp(results.params)"
   ]
  },
  {
   "cell_type": "code",
   "execution_count": 51,
   "metadata": {},
   "outputs": [
    {
     "name": "stdout",
     "output_type": "stream",
     "text": [
      "Optimization terminated successfully.\n",
      "         Current function value: 0.685527\n",
      "         Iterations 4\n",
      "                           Logit Regression Results                           \n",
      "==============================================================================\n",
      "Dep. Variable:           cad_presence   No. Observations:                  303\n",
      "Model:                          Logit   Df Residuals:                      301\n",
      "Method:                           MLE   Df Model:                            1\n",
      "Date:                Mon, 24 Feb 2020   Pseudo R-squ.:                0.005288\n",
      "Time:                        17:24:25   Log-Likelihood:                -207.71\n",
      "converged:                       True   LL-Null:                       -208.82\n",
      "Covariance Type:            nonrobust   LLR p-value:                    0.1373\n",
      "==============================================================================\n",
      "                 coef    std err          z      P>|z|      [0.025      0.975]\n",
      "------------------------------------------------------------------------------\n",
      "Intercept      1.0016      0.571      1.753      0.080      -0.118       2.122\n",
      "chol          -0.0033      0.002     -1.471      0.141      -0.008       0.001\n",
      "==============================================================================\n"
     ]
    },
    {
     "data": {
      "text/plain": [
       "Intercept    2.722680\n",
       "chol         0.996667\n",
       "dtype: float64"
      ]
     },
     "execution_count": 51,
     "metadata": {},
     "output_type": "execute_result"
    }
   ],
   "source": [
    "formula = 'cad_presence ~ chol'\n",
    "results = smf.logit(formula, data = data).fit()\n",
    "print(results.summary())\n",
    "np.exp(results.params)"
   ]
  },
  {
   "cell_type": "code",
   "execution_count": 52,
   "metadata": {},
   "outputs": [
    {
     "name": "stdout",
     "output_type": "stream",
     "text": [
      "Optimization terminated successfully.\n",
      "         Current function value: 0.678589\n",
      "         Iterations 4\n",
      "                           Logit Regression Results                           \n",
      "==============================================================================\n",
      "Dep. Variable:           cad_presence   No. Observations:                  303\n",
      "Model:                          Logit   Df Residuals:                      301\n",
      "Method:                           MLE   Df Model:                            1\n",
      "Date:                Mon, 24 Feb 2020   Pseudo R-squ.:                 0.01536\n",
      "Time:                        17:24:26   Log-Likelihood:                -205.61\n",
      "converged:                       True   LL-Null:                       -208.82\n",
      "Covariance Type:            nonrobust   LLR p-value:                   0.01133\n",
      "==============================================================================\n",
      "                 coef    std err          z      P>|z|      [0.025      0.975]\n",
      "------------------------------------------------------------------------------\n",
      "Intercept      2.4093      0.904      2.665      0.008       0.637       4.181\n",
      "resting_bp    -0.0169      0.007     -2.489      0.013      -0.030      -0.004\n",
      "==============================================================================\n"
     ]
    },
    {
     "data": {
      "text/plain": [
       "Intercept     11.126475\n",
       "resting_bp     0.983214\n",
       "dtype: float64"
      ]
     },
     "execution_count": 52,
     "metadata": {},
     "output_type": "execute_result"
    }
   ],
   "source": [
    "formula = 'cad_presence ~ resting_bp'\n",
    "results = smf.logit(formula, data = data). fit()\n",
    "print(results.summary())\n",
    "np.exp(results.params)"
   ]
  },
  {
   "cell_type": "code",
   "execution_count": 53,
   "metadata": {},
   "outputs": [
    {
     "name": "stdout",
     "output_type": "stream",
     "text": [
      "Optimization terminated successfully.\n",
      "         Current function value: 0.679695\n",
      "         Iterations 4\n",
      "                           Logit Regression Results                           \n",
      "==============================================================================\n",
      "Dep. Variable:           cad_presence   No. Observations:                  303\n",
      "Model:                          Logit   Df Residuals:                      301\n",
      "Method:                           MLE   Df Model:                            1\n",
      "Date:                Mon, 24 Feb 2020   Pseudo R-squ.:                 0.01375\n",
      "Time:                        17:24:26   Log-Likelihood:                -205.95\n",
      "converged:                       True   LL-Null:                       -208.82\n",
      "Covariance Type:            nonrobust   LLR p-value:                   0.01655\n",
      "==============================================================================\n",
      "                 coef    std err          z      P>|z|      [0.025      0.975]\n",
      "------------------------------------------------------------------------------\n",
      "Intercept     -0.0981      0.164     -0.600      0.548      -0.419       0.222\n",
      "restecg        0.5313      0.224      2.377      0.017       0.093       0.969\n",
      "==============================================================================\n"
     ]
    },
    {
     "data": {
      "text/plain": [
       "Intercept    0.906518\n",
       "restecg      1.701169\n",
       "dtype: float64"
      ]
     },
     "execution_count": 53,
     "metadata": {},
     "output_type": "execute_result"
    }
   ],
   "source": [
    "formula = 'cad_presence ~ restecg'\n",
    "results = smf.logit(formula, data = data).fit()\n",
    "print(results.summary())\n",
    "np.exp(results.params)"
   ]
  },
  {
   "cell_type": "code",
   "execution_count": 54,
   "metadata": {},
   "outputs": [
    {
     "name": "stdout",
     "output_type": "stream",
     "text": [
      "Optimization terminated successfully.\n",
      "         Current function value: 0.590423\n",
      "         Iterations 5\n",
      "                           Logit Regression Results                           \n",
      "==============================================================================\n",
      "Dep. Variable:           cad_presence   No. Observations:                  303\n",
      "Model:                          Logit   Df Residuals:                      300\n",
      "Method:                           MLE   Df Model:                            2\n",
      "Date:                Mon, 24 Feb 2020   Pseudo R-squ.:                  0.1433\n",
      "Time:                        17:24:26   Log-Likelihood:                -178.90\n",
      "converged:                       True   LL-Null:                       -208.82\n",
      "Covariance Type:            nonrobust   LLR p-value:                 1.013e-13\n",
      "==============================================================================\n",
      "                 coef    std err          z      P>|z|      [0.025      0.975]\n",
      "------------------------------------------------------------------------------\n",
      "Intercept      0.8457      0.161      5.245      0.000       0.530       1.162\n",
      "fbs           -0.1175      0.360     -0.326      0.744      -0.823       0.588\n",
      "exang         -2.0225      0.283     -7.158      0.000      -2.576      -1.469\n",
      "==============================================================================\n"
     ]
    },
    {
     "data": {
      "text/plain": [
       "Intercept    2.329661\n",
       "fbs          0.889122\n",
       "exang        0.132328\n",
       "dtype: float64"
      ]
     },
     "execution_count": 54,
     "metadata": {},
     "output_type": "execute_result"
    }
   ],
   "source": [
    "formula = 'cad_presence ~ fbs + exang'\n",
    "results = smf.logit(formula, data = data).fit()\n",
    "print(results.summary())\n",
    "np.exp(results.params)"
   ]
  },
  {
   "cell_type": "code",
   "execution_count": 55,
   "metadata": {},
   "outputs": [
    {
     "name": "stdout",
     "output_type": "stream",
     "text": [
      "Optimization terminated successfully.\n",
      "         Current function value: 0.606642\n",
      "         Iterations 5\n",
      "                           Logit Regression Results                           \n",
      "==============================================================================\n",
      "Dep. Variable:           cad_presence   No. Observations:                  303\n",
      "Model:                          Logit   Df Residuals:                      301\n",
      "Method:                           MLE   Df Model:                            1\n",
      "Date:                Mon, 24 Feb 2020   Pseudo R-squ.:                  0.1198\n",
      "Time:                        17:24:27   Log-Likelihood:                -183.81\n",
      "converged:                       True   LL-Null:                       -208.82\n",
      "Covariance Type:            nonrobust   LLR p-value:                 1.528e-12\n",
      "==============================================================================\n",
      "                 coef    std err          z      P>|z|      [0.025      0.975]\n",
      "------------------------------------------------------------------------------\n",
      "Intercept      0.8099      0.154      5.247      0.000       0.507       1.112\n",
      "vessel        -0.9093      0.147     -6.201      0.000      -1.197      -0.622\n",
      "==============================================================================\n"
     ]
    },
    {
     "data": {
      "text/plain": [
       "Intercept    2.247770\n",
       "vessel       0.402807\n",
       "dtype: float64"
      ]
     },
     "execution_count": 55,
     "metadata": {},
     "output_type": "execute_result"
    }
   ],
   "source": [
    "formula = 'cad_presence ~ vessel'\n",
    "results = smf.logit(formula, data = data).fit()\n",
    "print(results.summary())\n",
    "np.exp(results.params)"
   ]
  },
  {
   "cell_type": "code",
   "execution_count": null,
   "metadata": {},
   "outputs": [],
   "source": []
  },
  {
   "cell_type": "code",
   "execution_count": null,
   "metadata": {},
   "outputs": [],
   "source": []
  }
 ],
 "metadata": {
  "kernelspec": {
   "display_name": "Python 3",
   "language": "python",
   "name": "python3"
  },
  "language_info": {
   "codemirror_mode": {
    "name": "ipython",
    "version": 3
   },
   "file_extension": ".py",
   "mimetype": "text/x-python",
   "name": "python",
   "nbconvert_exporter": "python",
   "pygments_lexer": "ipython3",
   "version": "3.7.4"
  }
 },
 "nbformat": 4,
 "nbformat_minor": 2
}
